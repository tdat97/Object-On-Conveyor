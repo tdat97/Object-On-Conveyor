{
 "cells": [
  {
   "cell_type": "code",
   "execution_count": 12,
   "id": "588e57d9-7a99-498a-b175-dedc573b7dd9",
   "metadata": {},
   "outputs": [],
   "source": [
    "import tkinter as tk\n",
    "\n",
    "def foo():\n",
    "    button1.place_forget()\n",
    "    button2.place(relx=0, rely=0.5, relwidth=0.33, relheight=0.105)\n",
    "    \n",
    "def bar():\n",
    "    button2.place_forget()\n",
    "    button1.place(relx=0, rely=0, relwidth=0.33, relheight=0.105)\n",
    "\n",
    "    \n",
    "    \n",
    "    \n",
    "root = tk.Tk()\n",
    "\n",
    "screenheight = root.winfo_screenheight()\n",
    "screenwidth = root.winfo_screenwidth()\n",
    "root.title('test')\n",
    "root.state(\"zoomed\")\n",
    "root.geometry(f\"{screenwidth//3*2}x{screenheight//3*2}\")\n",
    "root.minsize(screenwidth//3*2, screenheight//3*2)\n",
    "\n",
    "\n",
    "\n",
    "button1 = tk.Button(root, text=\"button1\", command=None, bd=3)\n",
    "button2 = tk.Button(root, text=\"button2\", command=None, bd=3)\n",
    "button1.configure(command=foo)\n",
    "button2.configure(command=bar)\n",
    "\n",
    "button1.place(relx=0, rely=0, relwidth=0.33, relheight=0.105)\n",
    "button2.place(relx=0, rely=0.5, relwidth=0.33, relheight=0.105)\n",
    "\n",
    "button2.place_forget()\n",
    "\n",
    "root.mainloop()"
   ]
  },
  {
   "cell_type": "code",
   "execution_count": null,
   "id": "6291f696-38e9-40d1-9828-1c40a9393fd2",
   "metadata": {},
   "outputs": [],
   "source": []
  },
  {
   "cell_type": "code",
   "execution_count": null,
   "id": "ec23e112-0efa-4975-861d-669d02997f6a",
   "metadata": {},
   "outputs": [],
   "source": [
    "button2.place_forget()"
   ]
  },
  {
   "cell_type": "code",
   "execution_count": null,
   "id": "78c1d8d0-1135-42b8-987e-86caa4a2035a",
   "metadata": {},
   "outputs": [],
   "source": []
  },
  {
   "cell_type": "code",
   "execution_count": null,
   "id": "cfbc8ecb-6816-41d0-a652-0e9613f7afe3",
   "metadata": {},
   "outputs": [],
   "source": []
  },
  {
   "cell_type": "code",
   "execution_count": null,
   "id": "21705e78-9816-499f-a65f-7e2cc63f11a0",
   "metadata": {},
   "outputs": [],
   "source": []
  },
  {
   "cell_type": "code",
   "execution_count": 1,
   "id": "6a6ec504-3a6b-4a22-bfc4-88266d4e84ca",
   "metadata": {},
   "outputs": [],
   "source": [
    "import serial\n",
    "\n",
    "myserial = serial.Serial(\"COM5\", 9600, timeout=0, bytesize=serial.EIGHTBITS, \n",
    "                                  stopbits=serial.STOPBITS_ONE, parity=serial.PARITY_ODD)\n",
    "\n"
   ]
  },
  {
   "cell_type": "code",
   "execution_count": 3,
   "id": "59840536-c2bd-43da-b543-4b21202d0565",
   "metadata": {},
   "outputs": [
    {
     "data": {
      "text/plain": [
       "4"
      ]
     },
     "execution_count": 3,
     "metadata": {},
     "output_type": "execute_result"
    }
   ],
   "source": [
    "# myserial.write(b'A0 01 01 A2')\n",
    "myserial.write(b'\\xA0\\x01\\x00\\xA1')\n",
    "# myserial.write(b'\\xA0\\x01\\x01\\xA2')"
   ]
  },
  {
   "cell_type": "code",
   "execution_count": 4,
   "id": "a04ffbee-03cc-4ece-90d0-1cc636bf6f4e",
   "metadata": {},
   "outputs": [],
   "source": [
    "import time\n",
    "\n",
    "for _ in range(3):\n",
    "    # ON\n",
    "    myserial.write(b'\\xA0\\x01\\x01\\xA2')\n",
    "    time.sleep(0.5)\n",
    "    # OFF\n",
    "    myserial.write(b'\\xA0\\x01\\x00\\xA1')\n",
    "    time.sleep(0.5)"
   ]
  }
 ],
 "metadata": {
  "kernelspec": {
   "display_name": "Python 3 (ipykernel)",
   "language": "python",
   "name": "python3"
  },
  "language_info": {
   "codemirror_mode": {
    "name": "ipython",
    "version": 3
   },
   "file_extension": ".py",
   "mimetype": "text/x-python",
   "name": "python",
   "nbconvert_exporter": "python",
   "pygments_lexer": "ipython3",
   "version": "3.8.10"
  }
 },
 "nbformat": 4,
 "nbformat_minor": 5
}
